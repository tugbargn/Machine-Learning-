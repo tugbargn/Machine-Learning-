{
  "nbformat": 4,
  "nbformat_minor": 0,
  "metadata": {
    "colab": {
      "name": "Densenet_son.ipynb",
      "provenance": [],
      "collapsed_sections": [
        "6Scxt8I8wZCa",
        "GJDpA5hxwc31"
      ],
      "mount_file_id": "1RG6phITDUfmH51hOd7DmH0Nocr7tVwmM",
      "authorship_tag": "ABX9TyNpot+2dsYHkasF7vMyQ/GG",
      "include_colab_link": true
    },
    "kernelspec": {
      "name": "python3",
      "display_name": "Python 3"
    },
    "language_info": {
      "name": "python"
    },
    "accelerator": "GPU"
  },
  "cells": [
    {
      "cell_type": "markdown",
      "metadata": {
        "id": "view-in-github",
        "colab_type": "text"
      },
      "source": [
        "<a href=\"https://colab.research.google.com/github/tugbargn/Machine-Learning-/blob/main/Densenet_son.ipynb\" target=\"_parent\"><img src=\"https://colab.research.google.com/assets/colab-badge.svg\" alt=\"Open In Colab\"/></a>"
      ]
    },
    {
      "cell_type": "markdown",
      "metadata": {
        "id": "YRUn6c_zv1RK"
      },
      "source": [
        "#DENSENET\n"
      ]
    },
    {
      "cell_type": "markdown",
      "metadata": {
        "id": "iLwpG285v5q3"
      },
      "source": [
        "###DENSENET 121"
      ]
    },
    {
      "cell_type": "code",
      "metadata": {
        "colab": {
          "base_uri": "https://localhost:8080/"
        },
        "id": "_QuLt5s5vUdn",
        "outputId": "473c40f0-8ed8-43da-b8e9-68553e24b745"
      },
      "source": [
        "import numpy as np \n",
        "import pandas as pd\n",
        "from keras.preprocessing import image\n",
        "from PIL import Image\n",
        "from scipy import misc\n",
        "import seaborn as sns\n",
        "from keras.models import Sequential\n",
        "import tensorflow as tf\n",
        "import matplotlib.pyplot as plt\n",
        "from keras.preprocessing.image import ImageDataGenerator\n",
        "from keras.preprocessing import image\n",
        "from sklearn.model_selection import train_test_split\n",
        "from keras.layers import Input, Dense, Convolution2D, MaxPooling2D, UpSampling2D, Softmax, ZeroPadding2D, GlobalAveragePooling2D,BatchNormalization, Flatten\n",
        "from tensorflow.keras import datasets, layers, models\n",
        "from tensorflow import keras\n",
        "from tensorflow.keras import layers\n",
        "from keras.layers.core import Flatten, Dense, Dropout \n",
        "from tensorflow.keras.preprocessing import image\n",
        "from keras.optimizers import Adam, SGD, Adamax, Adagrad\n",
        "from tensorflow.keras.applications import DenseNet121\n",
        "from tensorflow.keras.models import Model\n",
        "from tensorflow.keras.applications.densenet import preprocess_input\n",
        "from keras.callbacks import ModelCheckpoint, ReduceLROnPlateau\n",
        "from sklearn.pipeline import Pipeline\n",
        "from sklearn.neighbors import KNeighborsClassifier\n",
        "from sklearn.metrics import accuracy_score\n",
        "from sklearn.model_selection import train_test_split\n",
        "from sklearn.preprocessing import StandardScaler\n",
        "from keras.callbacks import ModelCheckpoint, EarlyStopping\n",
        "\n",
        "train_datagen = ImageDataGenerator(\n",
        "        rescale=1./255,\n",
        "        shear_range=0.2,\n",
        "        zoom_range=0.2,\n",
        "        vertical_flip=True,\n",
        "        horizontal_flip=True,\n",
        "        rotation_range=90,\n",
        "        width_shift_range=0.1,\n",
        "        height_shift_range=0.1,\n",
        "        validation_split=0.3)\n",
        "test_datagen = ImageDataGenerator(rescale=1./255)\n",
        "\n",
        "train_generator = train_datagen.flow_from_directory(\n",
        "        '/content/drive/MyDrive/Colab Notebooks/MachineLearning',\n",
        "        target_size=(224, 224),\n",
        "        batch_size=32,\n",
        "        class_mode='categorical')\n",
        "\n",
        "validation_generator = test_datagen.flow_from_directory(\n",
        "        '/content/drive/MyDrive/Colab Notebooks/MachineLearning',\n",
        "        target_size=(224, 224),\n",
        "        batch_size=32,\n",
        "        class_mode='categorical')\n",
        "\n",
        "test_generator = test_datagen.flow_from_directory(\n",
        "        '/content/drive/MyDrive/Colab Notebooks/MachineLearning',\n",
        "        target_size=(224, 224),\n",
        "        batch_size=32,\n",
        "        class_mode='categorical')\n",
        "\n",
        "validation_datagen = ImageDataGenerator(rescale=1./255)\n",
        "\n",
        "validation_generator = validation_datagen.flow_from_directory(\n",
        "        '/content/drive/MyDrive/Colab Notebooks/MachineLearning',\n",
        "        target_size=(224, 224),\n",
        "        batch_size=32,\n",
        "        class_mode='categorical')\n",
        "\n",
        "\n",
        "STEP_SIZE_TRAIN=train_generator.n//train_generator.batch_size\n",
        "STEP_SIZE_VALID=validation_generator.n//validation_generator.batch_size\n",
        "history\n"
      ],
      "execution_count": null,
      "outputs": [
        {
          "output_type": "stream",
          "text": [
            "Found 13550 images belonging to 2 classes.\n",
            "Found 13550 images belonging to 2 classes.\n",
            "Found 13550 images belonging to 2 classes.\n",
            "Found 13550 images belonging to 2 classes.\n"
          ],
          "name": "stdout"
        }
      ]
    },
    {
      "cell_type": "code",
      "metadata": {
        "colab": {
          "base_uri": "https://localhost:8080/",
          "height": 1000
        },
        "id": "S1K7FjeQzLrJ",
        "outputId": "03a089a3-458f-49a5-e156-27ed62c1a977"
      },
      "source": [
        "def build_densenet121():\n",
        "    densenet = DenseNet121(weights='imagenet', include_top=False)\n",
        "\n",
        "    input = Input(shape=(224, 224, 3))\n",
        "    x = Convolution2D(3, (3, 3), padding='same')(input)\n",
        "    \n",
        "    x = densenet(x)\n",
        "    \n",
        "    x = GlobalAveragePooling2D()(x)\n",
        "    x = BatchNormalization()(x)\n",
        "    x = Dropout(0.5)(x)\n",
        "    x = Dense(256, activation='relu')(x)\n",
        "    x = BatchNormalization()(x)\n",
        "    x = Dropout(0.5)(x)\n",
        "\n",
        "    # multi output\n",
        "    output = Dense(2,activation = 'softmax', name='root')(x)\n",
        " \n",
        "\n",
        "    # model\n",
        "    model = Model(input,output)\n",
        "    \n",
        "    optimizer = Adam(lr=0.002, beta_1=0.9, beta_2=0.999, epsilon=0.1, decay=0.0)\n",
        "    model.compile(loss='categorical_crossentropy', optimizer=optimizer, metrics=['accuracy'])\n",
        "    model.summary()\n",
        "    history = model.fit(train_generator,\n",
        "                    steps_per_epoch=STEP_SIZE_TRAIN,\n",
        "                    epochs=10,\n",
        "                    validation_data=validation_generator,\n",
        "                    validation_steps=STEP_SIZE_VALID)\n",
        "    plt.plot(history.history['accuracy'],color = 'red')\n",
        "    plt.plot(history.history['val_accuracy'],color = 'blue')\n",
        "    plt.title('Model Accuracy')\n",
        "    plt.ylabel('Accuracy')\n",
        "    plt.xlabel('Epoch')\n",
        "    plt.legend(['Train','Validation'], loc = 'best')\n",
        "    plt.show()\n",
        "\n",
        "    plt.plot(history.history['loss'],color = 'red')\n",
        "    plt.plot(history.history['val_loss'],color = 'blue')\n",
        "    plt.title('Model Loss')\n",
        "    plt.ylabel('Loss')\n",
        "    plt.xlabel('Epoch')\n",
        "    plt.legend(['Train','Validation'],loc = 'best')\n",
        "    plt.show()\n",
        "    return model\n",
        "\n",
        "model=build_densenet121()\n",
        "\n"
      ],
      "execution_count": null,
      "outputs": [
        {
          "output_type": "stream",
          "text": [
            "Model: \"model_1\"\n",
            "_________________________________________________________________\n",
            "Layer (type)                 Output Shape              Param #   \n",
            "=================================================================\n",
            "input_4 (InputLayer)         [(None, 224, 224, 3)]     0         \n",
            "_________________________________________________________________\n",
            "conv2d_1 (Conv2D)            (None, 224, 224, 3)       84        \n",
            "_________________________________________________________________\n",
            "densenet121 (Functional)     (None, None, None, 1024)  7037504   \n",
            "_________________________________________________________________\n",
            "global_average_pooling2d_1 ( (None, 1024)              0         \n",
            "_________________________________________________________________\n",
            "batch_normalization_2 (Batch (None, 1024)              4096      \n",
            "_________________________________________________________________\n",
            "dropout_2 (Dropout)          (None, 1024)              0         \n",
            "_________________________________________________________________\n",
            "dense_1 (Dense)              (None, 256)               262400    \n",
            "_________________________________________________________________\n",
            "batch_normalization_3 (Batch (None, 256)               1024      \n",
            "_________________________________________________________________\n",
            "dropout_3 (Dropout)          (None, 256)               0         \n",
            "_________________________________________________________________\n",
            "root (Dense)                 (None, 2)                 514       \n",
            "=================================================================\n",
            "Total params: 7,305,622\n",
            "Trainable params: 7,219,414\n",
            "Non-trainable params: 86,208\n",
            "_________________________________________________________________\n",
            "Epoch 1/10\n",
            "423/423 [==============================] - 246s 560ms/step - loss: 0.1164 - accuracy: 0.9544 - val_loss: 1.4971e-04 - val_accuracy: 1.0000\n",
            "Epoch 2/10\n",
            "423/423 [==============================] - 235s 555ms/step - loss: 0.0035 - accuracy: 0.9993 - val_loss: 3.0455e-05 - val_accuracy: 1.0000\n",
            "Epoch 3/10\n",
            "423/423 [==============================] - 235s 554ms/step - loss: 0.0015 - accuracy: 0.9996 - val_loss: 1.4798e-06 - val_accuracy: 1.0000\n",
            "Epoch 4/10\n",
            "423/423 [==============================] - 235s 555ms/step - loss: 6.6817e-04 - accuracy: 1.0000 - val_loss: 9.7550e-07 - val_accuracy: 1.0000\n",
            "Epoch 5/10\n",
            "423/423 [==============================] - 236s 559ms/step - loss: 6.3205e-04 - accuracy: 0.9998 - val_loss: 1.3164e-06 - val_accuracy: 1.0000\n",
            "Epoch 6/10\n",
            "423/423 [==============================] - 236s 557ms/step - loss: 0.0015 - accuracy: 0.9992 - val_loss: 8.1960e-07 - val_accuracy: 1.0000\n",
            "Epoch 7/10\n",
            "423/423 [==============================] - 235s 555ms/step - loss: 0.0012 - accuracy: 0.9996 - val_loss: 1.3415e-05 - val_accuracy: 1.0000\n",
            "Epoch 8/10\n",
            "423/423 [==============================] - 235s 555ms/step - loss: 4.0178e-04 - accuracy: 1.0000 - val_loss: 3.7099e-07 - val_accuracy: 1.0000\n",
            "Epoch 9/10\n",
            "423/423 [==============================] - 235s 555ms/step - loss: 9.7540e-04 - accuracy: 0.9997 - val_loss: 8.4514e-07 - val_accuracy: 1.0000\n",
            "Epoch 10/10\n",
            "423/423 [==============================] - 235s 556ms/step - loss: 2.0011e-04 - accuracy: 1.0000 - val_loss: 1.1542e-06 - val_accuracy: 1.0000\n"
          ],
          "name": "stdout"
        },
        {
          "output_type": "display_data",
          "data": {
            "image/png": "[encoded data removed]",
            "text/plain": [
              "<Figure size 432x288 with 1 Axes>"
            ]
          },
          "metadata": {
            "tags": [],
            "needs_background": "light"
          }
        },
        {
          "output_type": "display_data",
          "data": {
            "image/png": "[encoded data removed]",
            "text/plain": [
              "<Figure size 432x288 with 1 Axes>"
            ]
          },
          "metadata": {
            "tags": [],
            "needs_background": "light"
          }
        }
      ]
    },
    {
      "cell_type": "code",
      "metadata": {
        "id": "TScbSQQ6Zr8O"
      },
      "source": [
        "y_pred = model.predict(test_generator)\n",
        "y_test = test_generator\n",
        "\n",
        "\n",
        "\n",
        "from sklearn.metrics import accuracy_score\n",
        "from sklearn.metrics import precision_score\n",
        "from sklearn.metrics import recall_score\n",
        "from sklearn.metrics import f1_score\n",
        "from sklearn.metrics import cohen_kappa_score\n",
        "from sklearn.metrics import roc_auc_score\n",
        "from sklearn.metrics import confusion_matrix\n",
        "from keras.models import Sequential\n",
        "from keras.layers import Dense\n",
        "\n",
        "\n",
        "# accuracy: (tp + tn) / (p + n)\n",
        "accuracy = accuracy_score(y_test, y_pred)\n",
        "print('Accuracy: %f' % accuracy)\n",
        "# precision tp / (tp + fp)\n",
        "precision = precision_score(y_test, y_pred)\n",
        "print('Precision: %f' % precision)\n",
        "# recall: tp / (tp + fn)\n",
        "recall = recall_score(y_test, y_pred)\n",
        "print('Recall: %f' % recall)\n",
        "# f1: 2 tp / (2 tp + fp + fn)\n",
        "f1 = f1_score(y_test, y_pred)\n",
        "print('F1 score: %f' % f1)\n",
        "\n",
        "#kappa\n",
        "kappa = cohen_kappa_score(y_test, y_pred)\n",
        "print('Cohens kappa: %f' % kappa)\n",
        "# ROC AUC\n",
        "auc = roc_auc_score(y_test, y_pred)\n",
        "print('ROC AUC: %f' % auc)\n",
        "\n",
        "# precision\n",
        "pre=precision_score(y_test, y_pred)\n",
        "print('Precision =  %.3f'%pre)\n",
        "\n",
        "# confusion matrix\n",
        "cf = confusion_matrix(y_test, y_pred)\n",
        "print(cf)"
      ],
      "execution_count": null,
      "outputs": []
    },
    {
      "cell_type": "markdown",
      "metadata": {
        "id": "8H09wKJ4wR2I"
      },
      "source": [
        "###DENSENET 201"
      ]
    },
    {
      "cell_type": "code",
      "metadata": {
        "id": "lJtG8Qz7wYCK",
        "colab": {
          "base_uri": "https://localhost:8080/"
        },
        "outputId": "433e7a06-af7c-48ed-b6a7-6114df180186"
      },
      "source": [
        "import numpy as np \n",
        "import pandas as pd\n",
        "from keras.preprocessing import image\n",
        "from PIL import Image\n",
        "from scipy import misc\n",
        "import seaborn as sns\n",
        "from keras.models import Sequential\n",
        "import tensorflow as tf\n",
        "import matplotlib.pyplot as plt\n",
        "from keras.preprocessing.image import ImageDataGenerator\n",
        "from keras.preprocessing import image\n",
        "from sklearn.model_selection import train_test_split\n",
        "from keras.layers import Input, Dense, Convolution2D, MaxPooling2D, UpSampling2D, Softmax, ZeroPadding2D, GlobalAveragePooling2D,BatchNormalization, Flatten\n",
        "from tensorflow.keras import datasets, layers, models\n",
        "from tensorflow import keras\n",
        "from tensorflow.keras import layers\n",
        "from keras.layers.core import Flatten, Dense, Dropout \n",
        "from tensorflow.keras.preprocessing import image\n",
        "from keras.optimizers import Adam, SGD, Adamax, Adagrad\n",
        "from tensorflow.keras.applications import DenseNet201\n",
        "from tensorflow.keras.models import Model\n",
        "from tensorflow.keras.applications.densenet import preprocess_input\n",
        "from keras.callbacks import ModelCheckpoint, ReduceLROnPlateau\n",
        "from sklearn.pipeline import Pipeline\n",
        "from sklearn.neighbors import KNeighborsClassifier\n",
        "from sklearn.metrics import accuracy_score\n",
        "from sklearn.model_selection import train_test_split\n",
        "from sklearn.preprocessing import StandardScaler\n",
        "from keras.callbacks import ModelCheckpoint, EarlyStopping\n",
        "\n",
        "train_datagen = ImageDataGenerator(\n",
        "        rescale=1./255,\n",
        "        shear_range=0.2,\n",
        "        zoom_range=0.2,\n",
        "        vertical_flip=True,\n",
        "        horizontal_flip=True,\n",
        "        rotation_range=90,\n",
        "        width_shift_range=0.1,\n",
        "        height_shift_range=0.1,\n",
        "        validation_split=0.3)\n",
        "test_datagen = ImageDataGenerator(rescale=1./255)\n",
        "\n",
        "train_generator = train_datagen.flow_from_directory(\n",
        "        '/content/drive/MyDrive/Colab Notebooks/MachineLearning',\n",
        "        target_size=(224, 224),\n",
        "        batch_size=32,\n",
        "        class_mode='categorical')\n",
        "\n",
        "validation_generator = test_datagen.flow_from_directory(\n",
        "        '/content/drive/MyDrive/Colab Notebooks/MachineLearning',\n",
        "        target_size=(224, 224),\n",
        "        batch_size=32,\n",
        "        class_mode='categorical')\n",
        "\n",
        "test_generator = test_datagen.flow_from_directory(\n",
        "        '/content/drive/MyDrive/Colab Notebooks/MachineLearning',\n",
        "        target_size=(224, 224),\n",
        "        batch_size=32,\n",
        "        class_mode='categorical')\n",
        "\n",
        "validation_datagen = ImageDataGenerator(rescale=1./255)\n",
        "\n",
        "validation_generator = validation_datagen.flow_from_directory(\n",
        "        '/content/drive/MyDrive/Colab Notebooks/MachineLearning',\n",
        "        target_size=(224, 224),\n",
        "        batch_size=32,\n",
        "        class_mode='categorical')\n",
        "\n",
        "\n",
        "STEP_SIZE_TRAIN=train_generator.n//train_generator.batch_size\n",
        "STEP_SIZE_VALID=validation_generator.n//validation_generator.batch_size\n",
        "\n"
      ],
      "execution_count": null,
      "outputs": [
        {
          "output_type": "stream",
          "text": [
            "Found 13550 images belonging to 2 classes.\n",
            "Found 13550 images belonging to 2 classes.\n",
            "Found 13550 images belonging to 2 classes.\n",
            "Found 13550 images belonging to 2 classes.\n"
          ],
          "name": "stdout"
        }
      ]
    },
    {
      "cell_type": "code",
      "metadata": {
        "id": "ghjjXVGo9h2j",
        "colab": {
          "base_uri": "https://localhost:8080/",
          "height": 1000
        },
        "outputId": "babe803a-505a-42c7-a3c1-5bad4a9fa9ab"
      },
      "source": [
        "def build_densenet201():\n",
        "    densenet = DenseNet201(weights='imagenet', include_top=False)\n",
        "\n",
        "    input = Input(shape=(224, 224, 3))\n",
        "    x = Convolution2D(3, (3, 3), padding='same')(input)\n",
        "    \n",
        "    x = densenet(x)\n",
        "    \n",
        "    x = GlobalAveragePooling2D()(x)\n",
        "    x = BatchNormalization()(x)\n",
        "    x = Dropout(0.5)(x)\n",
        "    x = Dense(256, activation='relu')(x)\n",
        "    x = BatchNormalization()(x)\n",
        "    x = Dropout(0.5)(x)\n",
        "\n",
        "    # multi output\n",
        "    output = Dense(2,activation = 'softmax', name='root')(x)\n",
        " \n",
        "\n",
        "    # model\n",
        "    model = Model(input,output)\n",
        "    \n",
        "    optimizer = Adam(lr=0.002, beta_1=0.9, beta_2=0.999, epsilon=0.1, decay=0.0)\n",
        "    model.compile(loss='categorical_crossentropy', optimizer=optimizer, metrics=['accuracy'])\n",
        "    model.summary()\n",
        "    history = model.fit(train_generator,\n",
        "                    steps_per_epoch=STEP_SIZE_TRAIN,\n",
        "                    epochs=10,\n",
        "                    validation_data=validation_generator,\n",
        "                    validation_steps=STEP_SIZE_VALID)\n",
        "    plt.plot(history.history['accuracy'],color = 'red')\n",
        "    plt.plot(history.history['val_accuracy'],color = 'blue')\n",
        "    plt.title('Model Accuracy')\n",
        "    plt.ylabel('Accuracy')\n",
        "    plt.xlabel('Epoch')\n",
        "    plt.legend(['Train','Validation'], loc = 'best')\n",
        "    plt.show()\n",
        "\n",
        "    plt.plot(history.history['loss'],color = 'red')\n",
        "    plt.plot(history.history['val_loss'],color = 'blue')\n",
        "    plt.title('Model Loss')\n",
        "    plt.ylabel('Loss')\n",
        "    plt.xlabel('Epoch')\n",
        "    plt.legend(['Train','Validation'],loc = 'best')\n",
        "    plt.show()\n",
        "    return model\n",
        "\n",
        "model=build_densenet201()\n",
        "y_pred = model.predict(test_generator)"
      ],
      "execution_count": null,
      "outputs": [
        {
          "output_type": "stream",
          "text": [
            "Downloading data from https://storage.googleapis.com/tensorflow/keras-applications/densenet/densenet201_weights_tf_dim_ordering_tf_kernels_notop.h5\n",
            "74842112/74836368 [==============================] - 1s 0us/step\n",
            "Model: \"model_2\"\n",
            "_________________________________________________________________\n",
            "Layer (type)                 Output Shape              Param #   \n",
            "=================================================================\n",
            "input_6 (InputLayer)         [(None, 224, 224, 3)]     0         \n",
            "_________________________________________________________________\n",
            "conv2d_2 (Conv2D)            (None, 224, 224, 3)       84        \n",
            "_________________________________________________________________\n",
            "densenet201 (Functional)     (None, None, None, 1920)  18321984  \n",
            "_________________________________________________________________\n",
            "global_average_pooling2d_2 ( (None, 1920)              0         \n",
            "_________________________________________________________________\n",
            "batch_normalization_4 (Batch (None, 1920)              7680      \n",
            "_________________________________________________________________\n",
            "dropout_4 (Dropout)          (None, 1920)              0         \n",
            "_________________________________________________________________\n",
            "dense_2 (Dense)              (None, 256)               491776    \n",
            "_________________________________________________________________\n",
            "batch_normalization_5 (Batch (None, 256)               1024      \n",
            "_________________________________________________________________\n",
            "dropout_5 (Dropout)          (None, 256)               0         \n",
            "_________________________________________________________________\n",
            "root (Dense)                 (None, 2)                 514       \n",
            "=================================================================\n",
            "Total params: 18,823,062\n",
            "Trainable params: 18,589,654\n",
            "Non-trainable params: 233,408\n",
            "_________________________________________________________________\n",
            "Epoch 1/10\n",
            "423/423 [==============================] - 336s 747ms/step - loss: 0.0889 - accuracy: 0.9681 - val_loss: 0.0049 - val_accuracy: 0.9998\n",
            "Epoch 2/10\n",
            "423/423 [==============================] - 309s 730ms/step - loss: 0.0014 - accuracy: 0.9996 - val_loss: 1.1309e-05 - val_accuracy: 1.0000\n",
            "Epoch 3/10\n",
            "423/423 [==============================] - 310s 733ms/step - loss: 6.9945e-04 - accuracy: 1.0000 - val_loss: 6.5682e-06 - val_accuracy: 1.0000\n",
            "Epoch 4/10\n",
            "423/423 [==============================] - 310s 732ms/step - loss: 9.3066e-04 - accuracy: 0.9997 - val_loss: 2.9239e-06 - val_accuracy: 1.0000\n",
            "Epoch 5/10\n",
            "423/423 [==============================] - 310s 733ms/step - loss: 2.4295e-04 - accuracy: 1.0000 - val_loss: 2.5001e-06 - val_accuracy: 1.0000\n",
            "Epoch 6/10\n",
            "423/423 [==============================] - 310s 733ms/step - loss: 3.5959e-04 - accuracy: 1.0000 - val_loss: 1.2110e-06 - val_accuracy: 1.0000\n",
            "Epoch 7/10\n",
            "423/423 [==============================] - 310s 732ms/step - loss: 2.1410e-04 - accuracy: 1.0000 - val_loss: 6.0511e-07 - val_accuracy: 1.0000\n",
            "Epoch 8/10\n",
            "423/423 [==============================] - 310s 733ms/step - loss: 2.2548e-04 - accuracy: 1.0000 - val_loss: 9.3336e-07 - val_accuracy: 1.0000\n",
            "Epoch 9/10\n",
            "423/423 [==============================] - 310s 733ms/step - loss: 2.9927e-04 - accuracy: 1.0000 - val_loss: 3.9805e-07 - val_accuracy: 1.0000\n",
            "Epoch 10/10\n",
            "423/423 [==============================] - 311s 734ms/step - loss: 6.3453e-04 - accuracy: 0.9997 - val_loss: 7.9084e-07 - val_accuracy: 1.0000\n"
          ],
          "name": "stdout"
        },
        {
          "output_type": "display_data",
          "data": {
            "image/png": "[encoded data removed]",
            "text/plain": [
              "<Figure size 432x288 with 1 Axes>"
            ]
          },
          "metadata": {
            "tags": [],
            "needs_background": "light"
          }
        },
        {
          "output_type": "display_data",
          "data": {
            "image/png": "[encoded data removed]",
            "text/plain": [
              "<Figure size 432x288 with 1 Axes>"
            ]
          },
          "metadata": {
            "tags": [],
            "needs_background": "light"
          }
        }
      ]
    },
    {
      "cell_type": "markdown",
      "metadata": {
        "id": "6Scxt8I8wZCa"
      },
      "source": [
        "###DENSENET 161"
      ]
    },
    {
      "cell_type": "code",
      "metadata": {
        "id": "O3K-rvSq9rCQ",
        "colab": {
          "base_uri": "https://localhost:8080/",
          "height": 381
        },
        "outputId": "8835b7ca-812a-4f44-cf73-e138a4e3794d"
      },
      "source": [
        "import numpy as np \n",
        "import pandas as pd\n",
        "from keras.preprocessing import image\n",
        "from PIL import Image\n",
        "from scipy import misc\n",
        "import seaborn as sns\n",
        "from keras.models import Sequential\n",
        "import tensorflow as tf\n",
        "import matplotlib.pyplot as plt\n",
        "from keras.preprocessing.image import ImageDataGenerator\n",
        "from keras.preprocessing import image\n",
        "from sklearn.model_selection import train_test_split\n",
        "from keras.layers import Input, Dense, Convolution2D, MaxPooling2D, UpSampling2D, Softmax, ZeroPadding2D, GlobalAveragePooling2D,BatchNormalization, Flatten\n",
        "from tensorflow.keras import datasets, layers, models\n",
        "from tensorflow import keras\n",
        "from tensorflow.keras import layers\n",
        "from keras.layers.core import Flatten, Dense, Dropout \n",
        "from tensorflow.keras.preprocessing import image\n",
        "from keras.optimizers import Adam, SGD, Adamax, Adagrad\n",
        "from tensorflow.keras.applications import Densenet161\n",
        "from tensorflow.keras.models import Model\n",
        "from tensorflow.keras.applications.densenet import preprocess_input\n",
        "from keras.callbacks import ModelCheckpoint, ReduceLROnPlateau\n",
        "from sklearn.pipeline import Pipeline\n",
        "from sklearn.neighbors import KNeighborsClassifier\n",
        "from sklearn.metrics import accuracy_score\n",
        "from sklearn.model_selection import train_test_split\n",
        "from sklearn.preprocessing import StandardScaler\n",
        "from keras.callbacks import ModelCheckpoint, EarlyStopping\n",
        "\n",
        "train_datagen = ImageDataGenerator(\n",
        "        rescale=1./255,\n",
        "        shear_range=0.2,\n",
        "        zoom_range=0.2,\n",
        "        vertical_flip=True,\n",
        "        horizontal_flip=True,\n",
        "        rotation_range=90,\n",
        "        width_shift_range=0.1,\n",
        "        height_shift_range=0.1,\n",
        "        validation_split=0.3)\n",
        "test_datagen = ImageDataGenerator(rescale=1./255)\n",
        "\n",
        "train_generator = train_datagen.flow_from_directory(\n",
        "        '/content/drive/MyDrive/Colab Notebooks/MachineLearning',\n",
        "        target_size=(224, 224),\n",
        "        batch_size=32,\n",
        "        class_mode='categorical')\n",
        "\n",
        "validation_generator = test_datagen.flow_from_directory(\n",
        "        '/content/drive/MyDrive/Colab Notebooks/MachineLearning',\n",
        "        target_size=(224, 224),\n",
        "        batch_size=32,\n",
        "        class_mode='categorical')\n",
        "\n",
        "test_generator = test_datagen.flow_from_directory(\n",
        "        '/content/drive/MyDrive/Colab Notebooks/MachineLearning',\n",
        "        target_size=(224, 224),\n",
        "        batch_size=32,\n",
        "        class_mode='categorical')\n",
        "\n",
        "validation_datagen = ImageDataGenerator(rescale=1./255)\n",
        "\n",
        "validation_generator = validation_datagen.flow_from_directory(\n",
        "        '/content/drive/MyDrive/Colab Notebooks/MachineLearning',\n",
        "        target_size=(224, 224),\n",
        "        batch_size=32,\n",
        "        class_mode='categorical')\n",
        "\n",
        "\n",
        "STEP_SIZE_TRAIN=train_generator.n//train_generator.batch_size\n",
        "STEP_SIZE_VALID=validation_generator.n//validation_generator.batch_size\n"
      ],
      "execution_count": null,
      "outputs": [
        {
          "output_type": "error",
          "ename": "ImportError",
          "evalue": "ignored",
          "traceback": [
            "\u001b[0;31m---------------------------------------------------------------------------\u001b[0m",
            "\u001b[0;31mImportError\u001b[0m                               Traceback (most recent call last)",
            "\u001b[0;32m<ipython-input-8-b66fcb03e862>\u001b[0m in \u001b[0;36m<module>\u001b[0;34m()\u001b[0m\n\u001b[1;32m     18\u001b[0m \u001b[0;32mfrom\u001b[0m \u001b[0mtensorflow\u001b[0m\u001b[0;34m.\u001b[0m\u001b[0mkeras\u001b[0m\u001b[0;34m.\u001b[0m\u001b[0mpreprocessing\u001b[0m \u001b[0;32mimport\u001b[0m \u001b[0mimage\u001b[0m\u001b[0;34m\u001b[0m\u001b[0;34m\u001b[0m\u001b[0m\n\u001b[1;32m     19\u001b[0m \u001b[0;32mfrom\u001b[0m \u001b[0mkeras\u001b[0m\u001b[0;34m.\u001b[0m\u001b[0moptimizers\u001b[0m \u001b[0;32mimport\u001b[0m \u001b[0mAdam\u001b[0m\u001b[0;34m,\u001b[0m \u001b[0mSGD\u001b[0m\u001b[0;34m,\u001b[0m \u001b[0mAdamax\u001b[0m\u001b[0;34m,\u001b[0m \u001b[0mAdagrad\u001b[0m\u001b[0;34m\u001b[0m\u001b[0;34m\u001b[0m\u001b[0m\n\u001b[0;32m---> 20\u001b[0;31m \u001b[0;32mfrom\u001b[0m \u001b[0mtensorflow\u001b[0m\u001b[0;34m.\u001b[0m\u001b[0mkeras\u001b[0m\u001b[0;34m.\u001b[0m\u001b[0mapplications\u001b[0m \u001b[0;32mimport\u001b[0m \u001b[0mDensenet161\u001b[0m\u001b[0;34m\u001b[0m\u001b[0;34m\u001b[0m\u001b[0m\n\u001b[0m\u001b[1;32m     21\u001b[0m \u001b[0;32mfrom\u001b[0m \u001b[0mtensorflow\u001b[0m\u001b[0;34m.\u001b[0m\u001b[0mkeras\u001b[0m\u001b[0;34m.\u001b[0m\u001b[0mmodels\u001b[0m \u001b[0;32mimport\u001b[0m \u001b[0mModel\u001b[0m\u001b[0;34m\u001b[0m\u001b[0;34m\u001b[0m\u001b[0m\n\u001b[1;32m     22\u001b[0m \u001b[0;32mfrom\u001b[0m \u001b[0mtensorflow\u001b[0m\u001b[0;34m.\u001b[0m\u001b[0mkeras\u001b[0m\u001b[0;34m.\u001b[0m\u001b[0mapplications\u001b[0m\u001b[0;34m.\u001b[0m\u001b[0mdensenet\u001b[0m \u001b[0;32mimport\u001b[0m \u001b[0mpreprocess_input\u001b[0m\u001b[0;34m\u001b[0m\u001b[0;34m\u001b[0m\u001b[0m\n",
            "\u001b[0;31mImportError\u001b[0m: cannot import name 'Densenet161' from 'tensorflow.keras.applications' (/usr/local/lib/python3.7/dist-packages/tensorflow/keras/applications/__init__.py)",
            "",
            "\u001b[0;31m---------------------------------------------------------------------------\u001b[0;32m\nNOTE: If your import is failing due to a missing package, you can\nmanually install dependencies using either !pip or !apt.\n\nTo view examples of installing some common dependencies, click the\n\"Open Examples\" button below.\n\u001b[0;31m---------------------------------------------------------------------------\u001b[0m\n"
          ]
        }
      ]
    },
    {
      "cell_type": "code",
      "metadata": {
        "id": "dcnB3FVj8QpW"
      },
      "source": [
        "def build_densenet161():\n",
        "    densenet = DenseNet161(weights='imagenet', include_top=False)\n",
        "\n",
        "    input = Input(shape=(224, 224, 3))\n",
        "    x = Convolution2D(3, (3, 3), padding='same')(input)\n",
        "    \n",
        "    x = densenet(x)\n",
        "    \n",
        "    x = GlobalAveragePooling2D()(x)\n",
        "    x = BatchNormalization()(x)\n",
        "    x = Dropout(0.5)(x)\n",
        "    x = Dense(256, activation='relu')(x)\n",
        "    x = BatchNormalization()(x)\n",
        "    x = Dropout(0.5)(x)\n",
        "\n",
        "    # multi output\n",
        "    output = Dense(2,activation = 'softmax', name='root')(x)\n",
        " \n",
        "\n",
        "    # model\n",
        "    model = Model(input,output)\n",
        "    \n",
        "    optimizer = Adam(lr=0.002, beta_1=0.9, beta_2=0.999, epsilon=0.1, decay=0.0)\n",
        "    model.compile(loss='categorical_crossentropy', optimizer=optimizer, metrics=['accuracy'])\n",
        "    model.summary()\n",
        "    history = model.fit(train_generator,\n",
        "                    steps_per_epoch=STEP_SIZE_TRAIN,\n",
        "                    epochs=10,\n",
        "                    validation_data=validation_generator,\n",
        "                    validation_steps=STEP_SIZE_VALID)\n",
        "    plt.plot(history.history['accuracy'],color = 'red')\n",
        "    plt.plot(history.history['val_accuracy'],color = 'blue')\n",
        "    plt.title('Model Accuracy')\n",
        "    plt.ylabel('Accuracy')\n",
        "    plt.xlabel('Epoch')\n",
        "    plt.legend(['Train','Validation'], loc = 'best')\n",
        "    plt.show()\n",
        "\n",
        "    plt.plot(history.history['loss'],color = 'red')\n",
        "    plt.plot(history.history['val_loss'],color = 'blue')\n",
        "    plt.title('Model Loss')\n",
        "    plt.ylabel('Loss')\n",
        "    plt.xlabel('Epoch')\n",
        "    plt.legend(['Train','Validation'],loc = 'best')\n",
        "    plt.show()\n",
        "    return model\n",
        "\n",
        "model=build_densenet161()\n",
        "y_pred = model.predict(test_generator)"
      ],
      "execution_count": null,
      "outputs": []
    },
    {
      "cell_type": "markdown",
      "metadata": {
        "id": "GJDpA5hxwc31"
      },
      "source": [
        "###DENSENET 169"
      ]
    },
    {
      "cell_type": "code",
      "metadata": {
        "id": "_9Sv3FNOwedL",
        "colab": {
          "base_uri": "https://localhost:8080/"
        },
        "outputId": "a2e2ece9-1104-4ffd-d179-2d6e30b2c7ec"
      },
      "source": [
        "import numpy as np \n",
        "import pandas as pd\n",
        "from keras.preprocessing import image\n",
        "from PIL import Image\n",
        "from scipy import misc\n",
        "import seaborn as sns\n",
        "from keras.models import Sequential\n",
        "import tensorflow as tf\n",
        "import matplotlib.pyplot as plt\n",
        "from keras.preprocessing.image import ImageDataGenerator\n",
        "from keras.preprocessing import image\n",
        "from sklearn.model_selection import train_test_split\n",
        "from keras.layers import Input, Dense, Convolution2D, MaxPooling2D, UpSampling2D, Softmax, ZeroPadding2D, GlobalAveragePooling2D,BatchNormalization, Flatten\n",
        "from tensorflow.keras import datasets, layers, models\n",
        "from tensorflow import keras\n",
        "from tensorflow.keras import layers\n",
        "from keras.layers.core import Flatten, Dense, Dropout \n",
        "from tensorflow.keras.preprocessing import image\n",
        "from keras.optimizers import Adam, SGD, Adamax, Adagrad\n",
        "from tensorflow.keras.applications import DenseNet169\n",
        "from tensorflow.keras.models import Model\n",
        "from tensorflow.keras.applications.densenet import preprocess_input\n",
        "from keras.callbacks import ModelCheckpoint, ReduceLROnPlateau\n",
        "from sklearn.pipeline import Pipeline\n",
        "from sklearn.neighbors import KNeighborsClassifier\n",
        "from sklearn.metrics import accuracy_score\n",
        "from sklearn.model_selection import train_test_split\n",
        "from sklearn.preprocessing import StandardScaler\n",
        "from keras.callbacks import ModelCheckpoint, EarlyStopping\n",
        "\n",
        "train_datagen = ImageDataGenerator(\n",
        "        rescale=1./255,\n",
        "        shear_range=0.2,\n",
        "        zoom_range=0.2,\n",
        "        vertical_flip=True,\n",
        "        horizontal_flip=True,\n",
        "        rotation_range=90,\n",
        "        width_shift_range=0.1,\n",
        "        height_shift_range=0.1,\n",
        "        validation_split=0.3)\n",
        "test_datagen = ImageDataGenerator(rescale=1./255)\n",
        "\n",
        "train_generator = train_datagen.flow_from_directory(\n",
        "        '/content/drive/MyDrive/Colab Notebooks/MachineLearning',\n",
        "        target_size=(224, 224),\n",
        "        batch_size=32,\n",
        "        class_mode='categorical')\n",
        "\n",
        "validation_generator = test_datagen.flow_from_directory(\n",
        "        '/content/drive/MyDrive/Colab Notebooks/MachineLearning',\n",
        "        target_size=(224, 224),\n",
        "        batch_size=32,\n",
        "        class_mode='categorical')\n",
        "\n",
        "test_generator = test_datagen.flow_from_directory(\n",
        "        '/content/drive/MyDrive/Colab Notebooks/MachineLearning',\n",
        "        target_size=(224, 224),\n",
        "        batch_size=32,\n",
        "        class_mode='categorical')\n",
        "\n",
        "validation_datagen = ImageDataGenerator(rescale=1./255)\n",
        "\n",
        "validation_generator = validation_datagen.flow_from_directory(\n",
        "        '/content/drive/MyDrive/Colab Notebooks/MachineLearning',\n",
        "        target_size=(224, 224),\n",
        "        batch_size=32,\n",
        "        class_mode='categorical')\n",
        "\n",
        "\n",
        "STEP_SIZE_TRAIN=train_generator.n//train_generator.batch_size\n",
        "STEP_SIZE_VALID=validation_generator.n//validation_generator.batch_size\n"
      ],
      "execution_count": null,
      "outputs": [
        {
          "output_type": "stream",
          "text": [
            "Found 13550 images belonging to 2 classes.\n",
            "Found 13550 images belonging to 2 classes.\n",
            "Found 13550 images belonging to 2 classes.\n",
            "Found 13550 images belonging to 2 classes.\n"
          ],
          "name": "stdout"
        }
      ]
    },
    {
      "cell_type": "code",
      "metadata": {
        "id": "qAuSqP6T9xEK",
        "colab": {
          "base_uri": "https://localhost:8080/",
          "height": 1000
        },
        "outputId": "ced8455b-e54b-492c-94ec-49fc854a4cfa"
      },
      "source": [
        "def build_densenet169():\n",
        "    densenet = DenseNet169(weights='imagenet', include_top=False)\n",
        "\n",
        "    input = Input(shape=(224, 224, 3))\n",
        "    x = Convolution2D(3, (3, 3), padding='same')(input)\n",
        "    \n",
        "    x = densenet(x)\n",
        "    \n",
        "    x = GlobalAveragePooling2D()(x)\n",
        "    x = BatchNormalization()(x)\n",
        "    x = Dropout(0.5)(x)\n",
        "    x = Dense(256, activation='relu')(x)\n",
        "    x = BatchNormalization()(x)\n",
        "    x = Dropout(0.5)(x)\n",
        "\n",
        "    # multi output\n",
        "    output = Dense(2,activation = 'softmax', name='root')(x)\n",
        " \n",
        "\n",
        "    # model\n",
        "    model = Model(input,output)\n",
        "    \n",
        "    optimizer = Adam(lr=0.002, beta_1=0.9, beta_2=0.999, epsilon=0.1, decay=0.0)\n",
        "    model.compile(loss='categorical_crossentropy', optimizer=optimizer, metrics=['accuracy'])\n",
        "    model.summary()\n",
        "    history = model.fit(train_generator,\n",
        "                    steps_per_epoch=STEP_SIZE_TRAIN,\n",
        "                    epochs=10,\n",
        "                    validation_data=validation_generator,\n",
        "                    validation_steps=STEP_SIZE_VALID)\n",
        "    plt.plot(history.history['accuracy'],color = 'red')\n",
        "    plt.plot(history.history['val_accuracy'],color = 'blue')\n",
        "    plt.title('Model Accuracy')\n",
        "    plt.ylabel('Accuracy')\n",
        "    plt.xlabel('Epoch')\n",
        "    plt.legend(['Train','Validation'], loc = 'best')\n",
        "    plt.show()\n",
        "\n",
        "    plt.plot(history.history['loss'],color = 'red')\n",
        "    plt.plot(history.history['val_loss'],color = 'blue')\n",
        "    plt.title('Model Loss')\n",
        "    plt.ylabel('Loss')\n",
        "    plt.xlabel('Epoch')\n",
        "    plt.legend(['Train','Validation'],loc = 'best')\n",
        "    plt.show()\n",
        "    return model\n",
        "\n",
        "model=build_densenet169()"
      ],
      "execution_count": null,
      "outputs": [
        {
          "output_type": "stream",
          "text": [
            "Downloading data from https://storage.googleapis.com/tensorflow/keras-applications/densenet/densenet169_weights_tf_dim_ordering_tf_kernels_notop.h5\n",
            "51879936/51877672 [==============================] - 1s 0us/step\n",
            "Model: \"model_3\"\n",
            "_________________________________________________________________\n",
            "Layer (type)                 Output Shape              Param #   \n",
            "=================================================================\n",
            "input_8 (InputLayer)         [(None, 224, 224, 3)]     0         \n",
            "_________________________________________________________________\n",
            "conv2d_3 (Conv2D)            (None, 224, 224, 3)       84        \n",
            "_________________________________________________________________\n",
            "densenet169 (Functional)     (None, None, None, 1664)  12642880  \n",
            "_________________________________________________________________\n",
            "global_average_pooling2d_3 ( (None, 1664)              0         \n",
            "_________________________________________________________________\n",
            "batch_normalization_6 (Batch (None, 1664)              6656      \n",
            "_________________________________________________________________\n",
            "dropout_6 (Dropout)          (None, 1664)              0         \n",
            "_________________________________________________________________\n",
            "dense_3 (Dense)              (None, 256)               426240    \n",
            "_________________________________________________________________\n",
            "batch_normalization_7 (Batch (None, 256)               1024      \n",
            "_________________________________________________________________\n",
            "dropout_7 (Dropout)          (None, 256)               0         \n",
            "_________________________________________________________________\n",
            "root (Dense)                 (None, 2)                 514       \n",
            "=================================================================\n",
            "Total params: 13,077,398\n",
            "Trainable params: 12,915,158\n",
            "Non-trainable params: 162,240\n",
            "_________________________________________________________________\n",
            "Epoch 1/10\n",
            "423/423 [==============================] - 273s 613ms/step - loss: 0.1163 - accuracy: 0.9577 - val_loss: 2.4276e-04 - val_accuracy: 1.0000\n",
            "Epoch 2/10\n",
            "423/423 [==============================] - 257s 607ms/step - loss: 0.0017 - accuracy: 0.9999 - val_loss: 0.0013 - val_accuracy: 1.0000\n",
            "Epoch 3/10\n",
            "423/423 [==============================] - 258s 610ms/step - loss: 0.0015 - accuracy: 0.9998 - val_loss: 1.1283e-05 - val_accuracy: 1.0000\n",
            "Epoch 4/10\n",
            "423/423 [==============================] - 257s 607ms/step - loss: 8.2524e-04 - accuracy: 0.9998 - val_loss: 1.2887e-05 - val_accuracy: 1.0000\n",
            "Epoch 5/10\n",
            "423/423 [==============================] - 257s 608ms/step - loss: 2.7250e-04 - accuracy: 1.0000 - val_loss: 1.2251e-06 - val_accuracy: 1.0000\n",
            "Epoch 6/10\n",
            "423/423 [==============================] - 257s 608ms/step - loss: 2.9717e-04 - accuracy: 1.0000 - val_loss: 9.3244e-07 - val_accuracy: 1.0000\n",
            "Epoch 7/10\n",
            "423/423 [==============================] - 257s 606ms/step - loss: 4.4775e-04 - accuracy: 0.9998 - val_loss: 9.3116e-07 - val_accuracy: 1.0000\n",
            "Epoch 8/10\n",
            "423/423 [==============================] - 257s 607ms/step - loss: 3.2185e-04 - accuracy: 1.0000 - val_loss: 6.7784e-07 - val_accuracy: 1.0000\n",
            "Epoch 9/10\n",
            "423/423 [==============================] - 256s 604ms/step - loss: 4.4708e-04 - accuracy: 0.9999 - val_loss: 1.4957e-05 - val_accuracy: 1.0000\n",
            "Epoch 10/10\n",
            "423/423 [==============================] - 256s 604ms/step - loss: 6.3006e-04 - accuracy: 1.0000 - val_loss: 5.3586e-07 - val_accuracy: 1.0000\n"
          ],
          "name": "stdout"
        },
        {
          "output_type": "display_data",
          "data": {
            "image/png": "[encoded data removed]",
            "text/plain": [
              "<Figure size 432x288 with 1 Axes>"
            ]
          },
          "metadata": {
            "tags": [],
            "needs_background": "light"
          }
        },
        {
          "output_type": "display_data",
          "data": {
            "image/png": "[encoded data removed]",
            "text/plain": [
              "<Figure size 432x288 with 1 Axes>"
            ]
          },
          "metadata": {
            "tags": [],
            "needs_background": "light"
          }
        }
      ]
    }
  ]
}