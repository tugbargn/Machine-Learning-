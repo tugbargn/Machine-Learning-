{
  "nbformat": 4,
  "nbformat_minor": 0,
  "metadata": {
    "colab": {
      "name": "Densenet",
      "provenance": [],
      "collapsed_sections": [],
      "mount_file_id": "1Lty2aRzwo3g3Ga7C-R-FGox4sHvRMfkn",
      "authorship_tag": "ABX9TyPhqOZJcHFFB9T/WKCmEyHu",
      "include_colab_link": true
    },
    "kernelspec": {
      "name": "python3",
      "display_name": "Python 3"
    },
    "language_info": {
      "name": "python"
    },
    "accelerator": "GPU"
  },
  "cells": [
    {
      "cell_type": "markdown",
      "metadata": {
        "id": "view-in-github",
        "colab_type": "text"
      },
      "source": [
        "<a href=\"https://colab.research.google.com/github/tugbargn/Machine-Learning-/blob/main/Densenet.ipynb\" target=\"_parent\"><img src=\"https://colab.research.google.com/assets/colab-badge.svg\" alt=\"Open In Colab\"/></a>"
      ]
    },
    {
      "cell_type": "code",
      "metadata": {
        "id": "rSw7e3NxpDcS",
        "colab": {
          "base_uri": "https://localhost:8080/",
          "height": 964
        },
        "outputId": "1d87c030-9e8c-47cd-b327-69578e6ee5c4"
      },
      "source": [
        "import numpy as np \n",
        "import pandas as pd\n",
        "from keras.optimizers import SGD\n",
        "from keras.preprocessing import image\n",
        "from os.path import join\n",
        "from PIL import Image\n",
        "from scipy import misc\n",
        "from keras.models import Sequential\n",
        "import tensorflow as tf\n",
        "import matplotlib.pyplot as plt\n",
        "from keras.preprocessing.image import ImageDataGenerator\n",
        "from keras.preprocessing import image\n",
        "from sklearn.model_selection import train_test_split\n",
        "from keras.layers import Input, Dense, Convolution2D, MaxPooling2D, UpSampling2D, Softmax, ZeroPadding2D\n",
        "from tensorflow.keras import datasets, layers, models\n",
        "from tensorflow import keras\n",
        "from tensorflow.keras import layers\n",
        "from keras.layers.core import Flatten, Dense, Dropout \n",
        "from keras.layers import Dense, Conv2D, MaxPool2D , Flatten\n",
        "from tensorflow.keras.applications.vgg16 import VGG16\n",
        "from tensorflow.keras.preprocessing import image\n",
        "from tensorflow.keras.applications.vgg16 import preprocess_input\n",
        "from tensorflow.keras.utils import plot_model\n",
        "from keras.preprocessing.image import load_img\n",
        "from keras.preprocessing.image import img_to_array\n",
        "from keras.applications.vgg16 import preprocess_input\n",
        "from keras.applications.vgg16 import decode_predictions\n",
        "from keras.applications.vgg16 import VGG16\n",
        "from keras.optimizers import Adam\n",
        "from sklearn.metrics import plot_confusion_matrix\n",
        "from keras.applications.vgg19 import VGG19\n",
        "from tensorflow.keras.applications import DenseNet121\n",
        "from tensorflow.keras.layers import GlobalAveragePooling2D,BatchNormalization\n",
        "from tensorflow.keras.models import Model\n",
        "from tensorflow.keras.applications.densenet import preprocess_input\n",
        "\n",
        "train_datagen = ImageDataGenerator(\n",
        "        rescale=1./255,\n",
        "        shear_range=0.2,\n",
        "        zoom_range=0.2,\n",
        "        vertical_flip=True,\n",
        "        horizontal_flip=True,\n",
        "        rotation_range=90,\n",
        "        width_shift_range=0.1,\n",
        "        height_shift_range=0.1,\n",
        "        validation_split=0.3)\n",
        "test_datagen = ImageDataGenerator(rescale=1./255)\n",
        "\n",
        "train_generator = train_datagen.flow_from_directory(\n",
        "        '/content/drive/MyDrive/Colab Notebooks/Train',\n",
        "        target_size=(224, 224),\n",
        "        batch_size=32,\n",
        "        class_mode='categorical')\n",
        "\n",
        "validation_generator = test_datagen.flow_from_directory(\n",
        "        '/content/drive/MyDrive/Colab Notebooks/Train',\n",
        "        target_size=(224, 224),\n",
        "        batch_size=32,\n",
        "        class_mode='categorical')\n",
        "\n",
        "\n",
        "STEP_SIZE_TRAIN=train_generator.n//train_generator.batch_size\n",
        "STEP_SIZE_VALID=validation_generator.n//validation_generator.batch_size\n",
        "\n",
        "model = DenseNet121(include_top= True, weights='imagenet', input_shape=(224,224,3))\n",
        "x = model.output\n",
        "predictions = Dense(2, activation='softmax')(x)\n",
        "model = Model(inputs = model.input, outputs=predictions)\n",
        "for layer in model.layers:\n",
        "    layer.trainable = False\n",
        "\n",
        "\n",
        "model.compile(optimizer='Adam',loss='categorical_crossentropy',metrics=['accuracy'])\n",
        "#model.summary()\n",
        "\n",
        "history = model.fit(train_generator,\n",
        "                    steps_per_epoch=STEP_SIZE_TRAIN,\n",
        "                    epochs=10,\n",
        "                    validation_data=validation_generator,\n",
        "                    validation_steps=STEP_SIZE_VALID)\n",
        "\n",
        "#plot_confusion_matrix(model, train_generator, validation_genarator)  \n",
        "#plt.show()  \n",
        "\n",
        "\n",
        "\n",
        "plt.plot(history.history['accuracy'],color = 'red')\n",
        "plt.plot(history.history['val_accuracy'],color = 'blue')\n",
        "plt.title('Model Accuracy')\n",
        "plt.ylabel('Accuracy')\n",
        "plt.xlabel('Epoch')\n",
        "plt.legend(['Train','Validation'], loc = 'best')\n",
        "plt.show()\n",
        "\n",
        "plt.plot(history.history['loss'],color = 'red')\n",
        "plt.plot(history.history['val_loss'],color = 'blue')\n",
        "plt.title('Model Loss')\n",
        "plt.ylabel('Loss')\n",
        "plt.xlabel('Epoch')\n",
        "plt.legend(['Train','Validation'],loc = 'best')\n",
        "plt.show()\n"
      ],
      "execution_count": 8,
      "outputs": [
        {
          "output_type": "stream",
          "text": [
            "Found 13536 images belonging to 2 classes.\n",
            "Found 13536 images belonging to 2 classes.\n",
            "Epoch 1/10\n",
            "423/423 [==============================] - 216s 499ms/step - loss: 0.6968 - accuracy: 0.4759 - val_loss: 0.6954 - val_accuracy: 0.4375\n",
            "Epoch 2/10\n",
            "423/423 [==============================] - 208s 491ms/step - loss: 0.6967 - accuracy: 0.4791 - val_loss: 0.6954 - val_accuracy: 0.4375\n",
            "Epoch 3/10\n",
            "423/423 [==============================] - 208s 492ms/step - loss: 0.6969 - accuracy: 0.4737 - val_loss: 0.6954 - val_accuracy: 0.4375\n",
            "Epoch 4/10\n",
            "423/423 [==============================] - 208s 493ms/step - loss: 0.6968 - accuracy: 0.4781 - val_loss: 0.6954 - val_accuracy: 0.4375\n",
            "Epoch 5/10\n",
            "423/423 [==============================] - 207s 491ms/step - loss: 0.6967 - accuracy: 0.4736 - val_loss: 0.6954 - val_accuracy: 0.4375\n",
            "Epoch 6/10\n",
            "423/423 [==============================] - 208s 493ms/step - loss: 0.6967 - accuracy: 0.4798 - val_loss: 0.6954 - val_accuracy: 0.4375\n",
            "Epoch 7/10\n",
            "423/423 [==============================] - 208s 491ms/step - loss: 0.6968 - accuracy: 0.4799 - val_loss: 0.6954 - val_accuracy: 0.4375\n",
            "Epoch 8/10\n",
            "423/423 [==============================] - 208s 492ms/step - loss: 0.6964 - accuracy: 0.4851 - val_loss: 0.6954 - val_accuracy: 0.4375\n",
            "Epoch 9/10\n",
            "423/423 [==============================] - 207s 490ms/step - loss: 0.6968 - accuracy: 0.4761 - val_loss: 0.6954 - val_accuracy: 0.4375\n",
            "Epoch 10/10\n",
            "423/423 [==============================] - 207s 488ms/step - loss: 0.6965 - accuracy: 0.4886 - val_loss: 0.6954 - val_accuracy: 0.4375\n"
          ],
          "name": "stdout"
        },
        {
          "output_type": "display_data",
          "data": {
            "image/png": "[encoded data removed]",
            "text/plain": [
              "<Figure size 432x288 with 1 Axes>"
            ]
          },
          "metadata": {
            "tags": [],
            "needs_background": "light"
          }
        },
        {
          "output_type": "display_data",
          "data": {
            "image/png": "[encoded data removed]",
            "text/plain": [
              "<Figure size 432x288 with 1 Axes>"
            ]
          },
          "metadata": {
            "tags": [],
            "needs_background": "light"
          }
        }
      ]
    }
  ]
}