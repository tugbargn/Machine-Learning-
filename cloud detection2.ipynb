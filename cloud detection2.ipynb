{
  "nbformat": 4,
  "nbformat_minor": 0,
  "metadata": {
    "colab": {
      "name": "tubi.ipynb",
      "provenance": [],
      "mount_file_id": "1QFGmnwxAn_oBGC-O1h8P5LHlp03qU-MZ",
      "authorship_tag": "ABX9TyPf7+QVB3ngjJgsVHBWezu4",
      "include_colab_link": true
    },
    "kernelspec": {
      "name": "python3",
      "display_name": "Python 3"
    },
    "language_info": {
      "name": "python"
    }
  },
  "cells": [
    {
      "cell_type": "markdown",
      "metadata": {
        "id": "view-in-github",
        "colab_type": "text"
      },
      "source": [
        "<a href=\"https://colab.research.google.com/github/tugbargn/Machine-Learning-/blob/main/cloud%20detection2.ipynb\" target=\"_parent\"><img src=\"https://colab.research.google.com/assets/colab-badge.svg\" alt=\"Open In Colab\"/></a>"
      ]
    },
    {
      "cell_type": "code",
      "metadata": {
        "colab": {
          "base_uri": "https://localhost:8080/"
        },
        "id": "KAJCF8STnWyx",
        "outputId": "6f98cdf1-ce99-48b2-882c-a5d23deee7fe"
      },
      "source": [
        "import numpy as np \n",
        "import pandas as pd\n",
        "from keras.preprocessing import image\n",
        "from os.path import join\n",
        "from PIL import Image\n",
        "from scipy import misc\n",
        "from sklearn.model_selection import train_test_split\n",
        "from keras.models import Sequential\n",
        "import tensorflow as tf\n",
        "import matplotlib.pyplot as plt\n",
        "from sklearn.model_selection import train_test_split\n",
        "from keras.preprocessing.image import ImageDataGenerator\n",
        "from keras.preprocessing import image\n",
        "from sklearn.model_selection import train_test_split\n",
        "from keras.layers import Input, Dense, Convolution2D, MaxPooling2D, UpSampling2D, Softmax\n",
        "from tensorflow.keras import datasets, layers, models\n",
        "from tensorflow import keras\n",
        "from tensorflow.keras import layers\n",
        "\n",
        "data = pd.read_csv(\"/content/drive/MyDrive/Colab Notebooks/SWIMSEG/metadata.csv\")\n",
        "#data.head()\n",
        "number = data[\"Number\"]\n",
        "#print(number)\n",
        "\n",
        "train_datagen = ImageDataGenerator(\n",
        "        rescale=1./255,\n",
        "        shear_range=0.2,\n",
        "        zoom_range=0.2,\n",
        "        vertical_flip=False,\n",
        "        horizontal_flip=True,\n",
        "        rotation_range=90,\n",
        "        width_shift_range=0.1,\n",
        "        height_shift_range=0.1,\n",
        "        validation_split=0.3)\n",
        "test_datagen = ImageDataGenerator(rescale=1./255)\n",
        "\n",
        "train_generator = train_datagen.flow_from_directory(\n",
        "        '/content/drive/MyDrive/Colab Notebooks/SWIMSEG/train/',\n",
        "        target_size=(150, 150),\n",
        "        batch_size=32,\n",
        "        class_mode='categorical')\n",
        "\n",
        "validation_generator = test_datagen.flow_from_directory(\n",
        "        '/content/drive/MyDrive/Colab Notebooks/SWIMSEG/train/',\n",
        "        target_size=(150, 150),\n",
        "        batch_size=32,\n",
        "        class_mode='categorical')\n",
        "\n",
        "\n",
        "#print(train_generator)\n",
        "#print(validation_generator)\n",
        "\n",
        "model = keras.Sequential()\n",
        "\n",
        "model.add(layers.Conv2D(32, (3, 3), activation='relu', input_shape=(150, 150, 3)))\n",
        "model.add(layers.MaxPooling2D((2, 2)))\n",
        "model.add(layers.Conv2D(64, (3, 3), activation='relu'))\n",
        "model.add(layers.MaxPooling2D((2, 2)))\n",
        "model.add(layers.Conv2D(64, (3, 3), activation='relu'))\n",
        "model.add(layers.Flatten())\n",
        "model.add(layers.Dense(2,activation = \"softmax\" ))\n",
        "model.summary()\n",
        "\n",
        "model.compile(loss='categorical_crossentropy', optimizer='adam', metrics=['accuracy'])\n",
        "\n",
        "model.fit(\n",
        "        train_generator,\n",
        "        steps_per_epoch=32,\n",
        "        epochs=10,\n",
        "        validation_data=validation_generator,\n",
        "        validation_steps=800)\n",
        "        #steps_per_epoch = len(X_train)\n",
        "## Sonra drop out ve batch normalization ekleyerek modeli optimize edebilirsiniz"
      ],
      "execution_count": 22,
      "outputs": [
        {
          "output_type": "stream",
          "text": [
            "Found 2026 images belonging to 2 classes.\n",
            "Found 2026 images belonging to 2 classes.\n",
            "Model: \"sequential_19\"\n",
            "_________________________________________________________________\n",
            "Layer (type)                 Output Shape              Param #   \n",
            "=================================================================\n",
            "conv2d_56 (Conv2D)           (None, 148, 148, 32)      896       \n",
            "_________________________________________________________________\n",
            "max_pooling2d_38 (MaxPooling (None, 74, 74, 32)        0         \n",
            "_________________________________________________________________\n",
            "conv2d_57 (Conv2D)           (None, 72, 72, 64)        18496     \n",
            "_________________________________________________________________\n",
            "max_pooling2d_39 (MaxPooling (None, 36, 36, 64)        0         \n",
            "_________________________________________________________________\n",
            "conv2d_58 (Conv2D)           (None, 34, 34, 64)        36928     \n",
            "_________________________________________________________________\n",
            "flatten_14 (Flatten)         (None, 73984)             0         \n",
            "_________________________________________________________________\n",
            "dense_16 (Dense)             (None, 2)                 147970    \n",
            "=================================================================\n",
            "Total params: 204,290\n",
            "Trainable params: 204,290\n",
            "Non-trainable params: 0\n",
            "_________________________________________________________________\n",
            "Epoch 1/10\n",
            "32/32 [==============================] - ETA: 0s - loss: 0.5998 - accuracy: 0.7838WARNING:tensorflow:Your input ran out of data; interrupting training. Make sure that your dataset or generator can generate at least `steps_per_epoch * epochs` batches (in this case, 800 batches). You may need to use the repeat() function when building your dataset.\n",
            "32/32 [==============================] - 308s 10s/step - loss: 0.5897 - accuracy: 0.7875 - val_loss: 0.0081 - val_accuracy: 0.9970\n",
            "Epoch 2/10\n",
            "32/32 [==============================] - 45s 1s/step - loss: 0.0541 - accuracy: 0.9810\n",
            "Epoch 3/10\n",
            "32/32 [==============================] - 45s 1s/step - loss: 0.0559 - accuracy: 0.9916\n",
            "Epoch 4/10\n",
            "32/32 [==============================] - 46s 1s/step - loss: 0.0088 - accuracy: 0.9969\n",
            "Epoch 5/10\n",
            "32/32 [==============================] - 46s 1s/step - loss: 0.0083 - accuracy: 0.9968\n",
            "Epoch 6/10\n",
            "32/32 [==============================] - 45s 1s/step - loss: 0.0061 - accuracy: 0.9991\n",
            "Epoch 7/10\n",
            "32/32 [==============================] - 45s 1s/step - loss: 0.0116 - accuracy: 0.9982\n",
            "Epoch 8/10\n",
            "32/32 [==============================] - 46s 1s/step - loss: 0.0098 - accuracy: 0.9957\n",
            "Epoch 9/10\n",
            "32/32 [==============================] - 45s 1s/step - loss: 7.5625e-04 - accuracy: 0.9992\n",
            "Epoch 10/10\n",
            "32/32 [==============================] - 46s 1s/step - loss: 0.0025 - accuracy: 1.0000\n"
          ],
          "name": "stdout"
        },
        {
          "output_type": "execute_result",
          "data": {
            "text/plain": [
              "<tensorflow.python.keras.callbacks.History at 0x7f4d0253a1d0>"
            ]
          },
          "metadata": {
            "tags": []
          },
          "execution_count": 22
        }
      ]
    }
  ]
}